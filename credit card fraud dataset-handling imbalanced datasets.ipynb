{
 "cells": [
  {
   "cell_type": "code",
   "execution_count": 1,
   "id": "a5d65d06",
   "metadata": {},
   "outputs": [],
   "source": [
    "import pandas as pd # data processing\n",
    "import numpy as np # working with arrays\n",
    "import matplotlib.pyplot as plt # visualization\n",
    "from termcolor import colored as cl # text customization\n",
    "import itertools # advanced tools\n",
    "\n",
    "from sklearn.preprocessing import StandardScaler # data normalization\n",
    "from sklearn.model_selection import train_test_split # data split\n",
    "from sklearn.tree import DecisionTreeClassifier # Decision tree algorithm\n",
    "from sklearn.neighbors import KNeighborsClassifier # KNN algorithm\n",
    "from sklearn.linear_model import LogisticRegression # Logistic regression algorithm\n",
    "from sklearn.svm import SVC # SVM algorithm\n",
    "from sklearn.ensemble import RandomForestClassifier # Random forest tree algorithm\n",
    "#from xgboost import XGBClassifier # XGBoost algorithm\n",
    "\n",
    "from sklearn.metrics import confusion_matrix # evaluation metric\n",
    "from sklearn.metrics import accuracy_score # evaluation metric\n",
    "from sklearn.metrics import f1_score # evaluation metric"
   ]
  },
  {
   "cell_type": "code",
   "execution_count": 2,
   "id": "25bca760",
   "metadata": {},
   "outputs": [],
   "source": [
    "import imblearn"
   ]
  },
  {
   "cell_type": "code",
   "execution_count": 3,
   "id": "e4331241",
   "metadata": {},
   "outputs": [
    {
     "name": "stdout",
     "output_type": "stream",
     "text": [
      "         V1        V2        V3        V4        V5        V6        V7  \\\n",
      "0 -1.359807 -0.072781  2.536347  1.378155 -0.338321  0.462388  0.239599   \n",
      "1  1.191857  0.266151  0.166480  0.448154  0.060018 -0.082361 -0.078803   \n",
      "2 -1.358354 -1.340163  1.773209  0.379780 -0.503198  1.800499  0.791461   \n",
      "3 -0.966272 -0.185226  1.792993 -0.863291 -0.010309  1.247203  0.237609   \n",
      "4 -1.158233  0.877737  1.548718  0.403034 -0.407193  0.095921  0.592941   \n",
      "\n",
      "         V8        V9       V10  ...       V21       V22       V23       V24  \\\n",
      "0  0.098698  0.363787  0.090794  ... -0.018307  0.277838 -0.110474  0.066928   \n",
      "1  0.085102 -0.255425 -0.166974  ... -0.225775 -0.638672  0.101288 -0.339846   \n",
      "2  0.247676 -1.514654  0.207643  ...  0.247998  0.771679  0.909412 -0.689281   \n",
      "3  0.377436 -1.387024 -0.054952  ... -0.108300  0.005274 -0.190321 -1.175575   \n",
      "4 -0.270533  0.817739  0.753074  ... -0.009431  0.798278 -0.137458  0.141267   \n",
      "\n",
      "        V25       V26       V27       V28  Amount  Class  \n",
      "0  0.128539 -0.189115  0.133558 -0.021053  149.62      0  \n",
      "1  0.167170  0.125895 -0.008983  0.014724    2.69      0  \n",
      "2 -0.327642 -0.139097 -0.055353 -0.059752  378.66      0  \n",
      "3  0.647376 -0.221929  0.062723  0.061458  123.50      0  \n",
      "4 -0.206010  0.502292  0.219422  0.215153   69.99      0  \n",
      "\n",
      "[5 rows x 30 columns]\n"
     ]
    }
   ],
   "source": [
    "df = pd.read_csv(\"C:/Users/admin/Downloads/creditcardfraud/creditcard.csv\")\n",
    "df.drop('Time', axis = 1, inplace = True)\n",
    "\n",
    "print(df.head())\n",
    "\n",
    "#Time data has no relation to the output of data"
   ]
  },
  {
   "cell_type": "code",
   "execution_count": 4,
   "id": "0d9eb28c",
   "metadata": {},
   "outputs": [
    {
     "data": {
      "text/plain": [
       "0    284315\n",
       "1       492\n",
       "Name: Class, dtype: int64"
      ]
     },
     "execution_count": 4,
     "metadata": {},
     "output_type": "execute_result"
    }
   ],
   "source": [
    "df['Class'].value_counts()"
   ]
  },
  {
   "cell_type": "code",
   "execution_count": 5,
   "id": "5aaf0f86",
   "metadata": {},
   "outputs": [
    {
     "data": {
      "text/plain": [
       "V1        0\n",
       "V2        0\n",
       "V3        0\n",
       "V4        0\n",
       "V5        0\n",
       "V6        0\n",
       "V7        0\n",
       "V8        0\n",
       "V9        0\n",
       "V10       0\n",
       "V11       0\n",
       "V12       0\n",
       "V13       0\n",
       "V14       0\n",
       "V15       0\n",
       "V16       0\n",
       "V17       0\n",
       "V18       0\n",
       "V19       0\n",
       "V20       0\n",
       "V21       0\n",
       "V22       0\n",
       "V23       0\n",
       "V24       0\n",
       "V25       0\n",
       "V26       0\n",
       "V27       0\n",
       "V28       0\n",
       "Amount    0\n",
       "Class     0\n",
       "dtype: int64"
      ]
     },
     "execution_count": 5,
     "metadata": {},
     "output_type": "execute_result"
    }
   ],
   "source": [
    "#checking for null values.. #there are no null values...\n",
    "df.isnull().sum()"
   ]
  },
  {
   "cell_type": "code",
   "execution_count": 6,
   "id": "4a14185c",
   "metadata": {},
   "outputs": [
    {
     "data": {
      "text/plain": [
       "<AxesSubplot:ylabel='Class'>"
      ]
     },
     "execution_count": 6,
     "metadata": {},
     "output_type": "execute_result"
    },
    {
     "data": {
      "image/png": "[encoded data removed]",
      "text/plain": [
       "<Figure size 432x288 with 1 Axes>"
      ]
     },
     "metadata": {},
     "output_type": "display_data"
    }
   ],
   "source": [
    "df['Class'].value_counts().plot.pie(radius=1)"
   ]
  },
  {
   "cell_type": "code",
   "execution_count": 7,
   "id": "f149daa8",
   "metadata": {},
   "outputs": [
    {
     "data": {
      "text/plain": [
       "<AxesSubplot:>"
      ]
     },
     "execution_count": 7,
     "metadata": {},
     "output_type": "execute_result"
    },
    {
     "data": {
      "image/png": "[encoded data removed]",
      "text/plain": [
       "<Figure size 432x288 with 1 Axes>"
      ]
     },
     "metadata": {
      "needs_background": "light"
     },
     "output_type": "display_data"
    }
   ],
   "source": [
    "df['Class'].value_counts().plot.bar()"
   ]
  },
  {
   "cell_type": "code",
   "execution_count": 8,
   "id": "551d8265",
   "metadata": {},
   "outputs": [
    {
     "name": "stdout",
     "output_type": "stream",
     "text": [
      "\u001b[1m0    0.244964\n",
      "1   -0.342475\n",
      "2    1.160686\n",
      "3    0.140534\n",
      "4   -0.073403\n",
      "5   -0.338556\n",
      "6   -0.333279\n",
      "7   -0.190107\n",
      "8    0.019392\n",
      "9   -0.338516\n",
      "Name: Amount, dtype: float64\u001b[0m\n"
     ]
    }
   ],
   "source": [
    "#scaling of amount data\n",
    "\n",
    "sc = StandardScaler()\n",
    "amount = df['Amount'].values\n",
    "\n",
    "df['Amount'] = sc.fit_transform(amount.reshape(-1, 1))\n",
    "\n",
    "print(cl(df['Amount'].head(10), attrs = ['bold']))"
   ]
  },
  {
   "cell_type": "code",
   "execution_count": 9,
   "id": "36c022af",
   "metadata": {},
   "outputs": [],
   "source": [
    "#splitting into features and labels\n",
    "\n",
    "X = df.drop('Class', axis = 1).values\n",
    "y = df['Class'].values"
   ]
  },
  {
   "cell_type": "code",
   "execution_count": 23,
   "id": "664ae9fa",
   "metadata": {},
   "outputs": [],
   "source": [
    "#splitting data into train and test\n",
    "\n",
    "X_train, X_test, y_train, y_test = train_test_split(X, y, test_size = 0.3, random_state = 0)"
   ]
  },
  {
   "cell_type": "code",
   "execution_count": 24,
   "id": "de3e3c09",
   "metadata": {},
   "outputs": [
    {
     "name": "stdout",
     "output_type": "stream",
     "text": [
      "number of training samples are: 199364\n",
      "number of testing samples are: 85443\n"
     ]
    }
   ],
   "source": [
    "#print Training size and test size\n",
    "\n",
    "print('number of training samples are:',len(X_train))\n",
    "print('number of testing samples are:',len(X_test))"
   ]
  },
  {
   "cell_type": "code",
   "execution_count": 25,
   "id": "c5efad96",
   "metadata": {},
   "outputs": [
    {
     "name": "stdout",
     "output_type": "stream",
     "text": [
      "accuracy score with logistic regression: 0.999204147794436\n"
     ]
    }
   ],
   "source": [
    "lr = LogisticRegression()\n",
    "lr.fit(X_train, y_train)\n",
    "lr_yhat = lr.predict(X_test)\n",
    "\n",
    "print('accuracy score with logistic regression:',accuracy_score(y_test,lr_yhat))\n",
    "\n",
    "#logistic regression"
   ]
  },
  {
   "cell_type": "code",
   "execution_count": 34,
   "id": "3e921d58",
   "metadata": {},
   "outputs": [
    {
     "name": "stdout",
     "output_type": "stream",
     "text": [
      "              precision    recall  f1-score   support\n",
      "\n",
      "           0       1.00      1.00      1.00     85296\n",
      "           1       0.88      0.62      0.73       147\n",
      "\n",
      "    accuracy                           1.00     85443\n",
      "   macro avg       0.94      0.81      0.86     85443\n",
      "weighted avg       1.00      1.00      1.00     85443\n",
      "\n",
      "[[85284    12]\n",
      " [   56    91]]\n"
     ]
    }
   ],
   "source": [
    "from sklearn.metrics import classification_report\n",
    "print(classification_report(y_test,lr_yhat))\n",
    "print(confusion_matrix(y_test,lr_yhat))\n"
   ]
  },
  {
   "cell_type": "code",
   "execution_count": 27,
   "id": "271ec3fe",
   "metadata": {},
   "outputs": [],
   "source": [
    "from imblearn.under_sampling import RandomUnderSampler #import the required library"
   ]
  },
  {
   "cell_type": "code",
   "execution_count": 28,
   "id": "7278048e",
   "metadata": {},
   "outputs": [],
   "source": [
    "nm=RandomUnderSampler() #RandomUnderSampler object\n"
   ]
  },
  {
   "cell_type": "code",
   "execution_count": 16,
   "id": "e9902690",
   "metadata": {},
   "outputs": [],
   "source": [
    "import imblearn"
   ]
  },
  {
   "cell_type": "code",
   "execution_count": 29,
   "id": "35b3e8c0",
   "metadata": {},
   "outputs": [],
   "source": [
    "x_train_nm,y_train_nm=nm.fit_resample(X_train,y_train)#apply to RandomUnderSampler"
   ]
  },
  {
   "cell_type": "code",
   "execution_count": 32,
   "id": "97a10d8c",
   "metadata": {},
   "outputs": [
    {
     "name": "stdout",
     "output_type": "stream",
     "text": [
      "[[81797  3499]\n",
      " [   10   137]]\n"
     ]
    }
   ],
   "source": [
    "lr.fit(x_train_nm,y_train_nm) #train the model\n",
    "y_pred_nm=lr.predict(X_test) #predict from the model\n",
    "\n",
    "print(confusion_matrix(y_test,y_pred_nm))\n"
   ]
  },
  {
   "cell_type": "code",
   "execution_count": 35,
   "id": "e55ab19f",
   "metadata": {},
   "outputs": [],
   "source": [
    "from imblearn.over_sampling import RandomOverSampler #import the required library\n"
   ]
  },
  {
   "cell_type": "code",
   "execution_count": 43,
   "id": "fe25b155",
   "metadata": {},
   "outputs": [],
   "source": [
    "os=RandomOverSampler() #RandomOverSampler object\n"
   ]
  },
  {
   "cell_type": "code",
   "execution_count": 45,
   "id": "c5c1dfff",
   "metadata": {},
   "outputs": [],
   "source": [
    "x_train_os,y_train_os=os.fit_resample(X_train,y_train)#apply to RandomOverSampler\n"
   ]
  },
  {
   "cell_type": "code",
   "execution_count": 49,
   "id": "7d185461",
   "metadata": {},
   "outputs": [
    {
     "name": "stdout",
     "output_type": "stream",
     "text": [
      "[[83331  1965]\n",
      " [   13   134]]\n"
     ]
    }
   ],
   "source": [
    "lr.fit(x_train_os,y_train_os) #train the model\n",
    "y_pred_os=lr.predict(X_test) #predict from the model\n",
    "#confusion matrix\n",
    "print(confusion_matrix(y_test,y_pred_os))"
   ]
  },
  {
   "cell_type": "code",
   "execution_count": 51,
   "id": "66542ea9",
   "metadata": {},
   "outputs": [],
   "source": [
    "#SMOTE\n",
    "from imblearn.over_sampling import SMOTE #import the required library\n",
    "sm=SMOTE() #SMOTE object\n"
   ]
  },
  {
   "cell_type": "code",
   "execution_count": 52,
   "id": "38ee6c89",
   "metadata": {},
   "outputs": [],
   "source": [
    "x_train_sm,y_train_sm=sm.fit_resample(X_train,y_train)#apply to SMOTE\n"
   ]
  },
  {
   "cell_type": "code",
   "execution_count": 54,
   "id": "1b80298e",
   "metadata": {},
   "outputs": [],
   "source": [
    "lr.fit(x_train_sm,y_train_sm) #train the model\n",
    "y_pred_sm=lr.predict(X_test) #"
   ]
  },
  {
   "cell_type": "code",
   "execution_count": 55,
   "id": "75d295b1",
   "metadata": {},
   "outputs": [
    {
     "name": "stdout",
     "output_type": "stream",
     "text": [
      "[[83199  2097]\n",
      " [   12   135]]\n"
     ]
    }
   ],
   "source": [
    "print(confusion_matrix(y_test,y_pred_sm))\n"
   ]
  },
  {
   "cell_type": "code",
   "execution_count": 56,
   "id": "f9896c1f",
   "metadata": {},
   "outputs": [
    {
     "name": "stdout",
     "output_type": "stream",
     "text": [
      "              precision    recall  f1-score   support\n",
      "\n",
      "           0       1.00      0.98      0.99     85296\n",
      "           1       0.06      0.92      0.11       147\n",
      "\n",
      "    accuracy                           0.98     85443\n",
      "   macro avg       0.53      0.95      0.55     85443\n",
      "weighted avg       1.00      0.98      0.99     85443\n",
      "\n"
     ]
    }
   ],
   "source": [
    "print(classification_report(y_test,y_pred_sm))\n"
   ]
  },
  {
   "cell_type": "code",
   "execution_count": 57,
   "id": "2930319c",
   "metadata": {},
   "outputs": [
    {
     "name": "stdout",
     "output_type": "stream",
     "text": [
      "[[83426  1870]\n",
      " [   16   131]]\n"
     ]
    }
   ],
   "source": [
    "from imblearn.ensemble import BalancedRandomForestClassifier #import the required library\n",
    "brf = BalancedRandomForestClassifier() #BalancedRandomForestClassifier object\n",
    "tem=brf.fit(X_train, y_train) #fit \n",
    "y_pred_BRFC = brf.predict(X_test)\n",
    "#confusion matrix\n",
    "print(confusion_matrix(y_test,y_pred_BRFC)) "
   ]
  },
  {
   "cell_type": "code",
   "execution_count": 58,
   "id": "0fa4517c",
   "metadata": {},
   "outputs": [
    {
     "name": "stdout",
     "output_type": "stream",
     "text": [
      "              precision    recall  f1-score   support\n",
      "\n",
      "           0       1.00      0.98      0.99     85296\n",
      "           1       0.07      0.89      0.12       147\n",
      "\n",
      "    accuracy                           0.98     85443\n",
      "   macro avg       0.53      0.93      0.56     85443\n",
      "weighted avg       1.00      0.98      0.99     85443\n",
      "\n"
     ]
    }
   ],
   "source": [
    "print(classification_report(y_test,y_pred_BRFC))\n"
   ]
  },
  {
   "cell_type": "code",
   "execution_count": null,
   "id": "db57c964",
   "metadata": {},
   "outputs": [],
   "source": [
    "#Anomaly detection\n"
   ]
  },
  {
   "cell_type": "code",
   "execution_count": null,
   "id": "727ca1a0",
   "metadata": {},
   "outputs": [],
   "source": [
    "#threshold moving"
   ]
  },
  {
   "cell_type": "code",
   "execution_count": null,
   "id": "cad9f6ea",
   "metadata": {},
   "outputs": [],
   "source": [
    "#completed: undersampling,os,bagging classifier"
   ]
  },
  {
   "cell_type": "code",
   "execution_count": null,
   "id": "bf0f8bec",
   "metadata": {},
   "outputs": [],
   "source": []
  }
 ],
 "metadata": {
  "kernelspec": {
   "display_name": "Python 3 (ipykernel)",
   "language": "python",
   "name": "python3"
  },
  "language_info": {
   "codemirror_mode": {
    "name": "ipython",
    "version": 3
   },
   "file_extension": ".py",
   "mimetype": "text/x-python",
   "name": "python",
   "nbconvert_exporter": "python",
   "pygments_lexer": "ipython3",
   "version": "3.9.7"
  }
 },
 "nbformat": 4,
 "nbformat_minor": 5
}
